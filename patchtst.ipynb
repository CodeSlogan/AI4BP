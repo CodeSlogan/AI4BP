{
 "cells": [
  {
   "cell_type": "code",
   "id": "initial_id",
   "metadata": {
    "collapsed": true,
    "ExecuteTime": {
     "end_time": "2024-09-20T08:29:52.214551Z",
     "start_time": "2024-09-20T08:29:43.425108Z"
    }
   },
   "source": [
    "import matplotlib.pyplot as plt\n",
    "import pandas as pd\n",
    "import torch\n",
    "import torch.nn as nn\n",
    "import torch.optim as optim\n",
    "from sklearn.model_selection import train_test_split\n",
    "from sklearn.preprocessing import MinMaxScaler\n",
    "from torch.utils.data import DataLoader\n",
    "from data_process.CustomDataset import CustomDataset\n",
    "from model.patchtst.patchTST import PatchTST\n",
    "from data_process.DataModule import DataModule\n",
    "\n",
    "device = torch.device(\"cuda\" if torch.cuda.is_available() else \"cpu\")\n",
    "\n",
    "input_scaler, output_scaler, train_dataloader, test_dataloader = DataModule()"
   ],
   "outputs": [],
   "execution_count": 1
  },
  {
   "cell_type": "code",
   "id": "cfda00fd",
   "metadata": {
    "ExecuteTime": {
     "end_time": "2024-09-20T08:35:54.598828Z",
     "start_time": "2024-09-20T08:35:54.580828Z"
    }
   },
   "source": [
    "import argparse\n",
    "\n",
    "parser = argparse.ArgumentParser()\n",
    "# Dataset and dataloader\n",
    "parser.add_argument('--context_points', type=int, default=1024, help='sequence length')\n",
    "parser.add_argument('--target_points', type=int, default=1024, help='forecast horizon')\n",
    "parser.add_argument('--batch_size', type=int, default=64, help='batch size')\n",
    "parser.add_argument('--num_workers', type=int, default=0, help='number of workers for DataLoader')\n",
    "parser.add_argument('--scaler', type=str, default='standard', help='scale the input data')\n",
    "parser.add_argument('--features', type=str, default='M', help='for multivariate model or univariate model')\n",
    "# Patch\n",
    "parser.add_argument('--patch_len', type=int, default=16, help='patch length')\n",
    "parser.add_argument('--stride', type=int, default=16, help='stride between patch')\n",
    "# RevIN\n",
    "parser.add_argument('--revin', type=int, default=1, help='reversible instance normalization')\n",
    "# Model args\n",
    "parser.add_argument('--n_layers', type=int, default=3, help='number of Transformer layers')\n",
    "parser.add_argument('--n_heads', type=int, default=16, help='number of Transformer heads')\n",
    "parser.add_argument('--d_model', type=int, default=128, help='Transformer d_model')\n",
    "parser.add_argument('--d_ff', type=int, default=512, help='Tranformer MLP dimension')\n",
    "parser.add_argument('--dropout', type=float, default=0.2, help='Transformer dropout')\n",
    "parser.add_argument('--head_dropout', type=float, default=0.2, help='head dropout')\n",
    "# Pretrain mask\n",
    "parser.add_argument('--mask_ratio', type=float, default=0.4, help='masking ratio for the input')\n",
    "# Optimization args\n",
    "parser.add_argument('--n_epochs_pretrain', type=int, default=10, help='number of pre-training epochs')\n",
    "parser.add_argument('--lr', type=float, default=1e-4, help='learning rate')\n",
    "# model id to keep track of the number of models saved\n",
    "parser.add_argument('--pretrained_model_id', type=int, default=1, help='id of the saved pretrained model')\n",
    "parser.add_argument('--model_type', type=str, default='based_model', help='for multivariate model or univariate model')\n",
    "\n",
    "args, _ = parser.parse_known_args()\n",
    "\n",
    "print('args:', args)"
   ],
   "outputs": [
    {
     "name": "stdout",
     "output_type": "stream",
     "text": [
      "args: Namespace(context_points=1024, target_points=1024, batch_size=64, num_workers=0, scaler='standard', features='M', patch_len=16, stride=16, revin=1, n_layers=3, n_heads=16, d_model=128, d_ff=512, dropout=0.2, head_dropout=0.2, mask_ratio=0.4, n_epochs_pretrain=10, lr=0.0001, pretrained_model_id=1, model_type='based_model')\n"
     ]
    }
   ],
   "execution_count": 3
  },
  {
   "cell_type": "code",
   "execution_count": 3,
   "id": "ed189d2df4f1f23c",
   "metadata": {
    "ExecuteTime": {
     "end_time": "2024-08-29T12:35:32.499769Z",
     "start_time": "2024-08-29T12:35:32.401855Z"
    }
   },
   "outputs": [],
   "source": [
    "# 参数定义\n",
    "num_patch = (max(args.context_points, args.patch_len)-args.patch_len) // args.stride + 1 \n",
    "# Initialize model\n",
    "model = PatchTST(c_in=1,\n",
    "                target_dim=args.target_points,\n",
    "                patch_len=args.patch_len,\n",
    "                stride=args.stride,\n",
    "                num_patch=num_patch,\n",
    "                n_layers=args.n_layers,\n",
    "                n_heads=args.n_heads,\n",
    "                d_model=args.d_model,\n",
    "                shared_embedding=True,\n",
    "                d_ff=args.d_ff,                        \n",
    "                dropout=args.dropout,\n",
    "                head_dropout=args.head_dropout,\n",
    "                act='relu',\n",
    "                head_type='pretrain',\n",
    "                res_attention=False\n",
    "                ).to(device)        \n",
    "# 超参数\n",
    "num_epochs = args.n_epochs_pretrain\n",
    "learning_rate = args.lr\n",
    "\n",
    "criterion = nn.MSELoss(reduction='mean')\n",
    "optimizer = optim.Adam(model.parameters(), lr=learning_rate)"
   ]
  },
  {
   "cell_type": "code",
   "execution_count": 4,
   "id": "4149e438a8f03b81",
   "metadata": {
    "ExecuteTime": {
     "end_time": "2024-08-29T12:36:04.091563Z",
     "start_time": "2024-08-29T12:36:04.086563Z"
    }
   },
   "outputs": [],
   "source": [
    "def show_image(batch_inputs, batch_targets, outputs):\n",
    "    x = input_scaler.inverse_transform(batch_inputs.cpu())  # ppg\n",
    "    y1 = output_scaler.inverse_transform(batch_targets.cpu())  # abp\n",
    "    y2 = output_scaler.inverse_transform(outputs.cpu())  # predict\n",
    "    \n",
    "    for i in range(0, len(y1)):\n",
    "        fig, axs = plt.subplots(1, 2, figsize=(14, 6))  \n",
    "        axs[0].plot(x[i, :], label='PPG')  \n",
    "        axs[0].set_title('PPG')  \n",
    "        axs[0].set_xlabel('Time')  \n",
    "        axs[0].set_ylabel('Value')  \n",
    "        axs[0].legend()  \n",
    "      \n",
    "        axs[1].plot(y1[i, :], color='red', label='ABP')  \n",
    "        axs[1].plot(y2[i, :], color='g', label='Predict')  \n",
    "        axs[1].set_title('ABP and Predict')  \n",
    "        axs[1].set_xlabel('Time')  \n",
    "        axs[1].set_ylabel('Value')  \n",
    "        axs[1].legend()  \n",
    "      \n",
    "        plt.tight_layout()  \n",
    "        plt.show()"
   ]
  },
  {
   "cell_type": "code",
   "execution_count": 25,
   "id": "e532eae4",
   "metadata": {},
   "outputs": [],
   "source": [
    "import numpy as np\n",
    "\n",
    "def mse_loss(y_true, y_pred):  \n",
    "    error = y_pred - y_true  \n",
    "\n",
    "    squared_error = error ** 2  \n",
    "\n",
    "    mse = np.mean(squared_error)  \n",
    "      \n",
    "    return mse  "
   ]
  },
  {
   "cell_type": "code",
   "execution_count": 27,
   "id": "66359f548bafd35",
   "metadata": {
    "ExecuteTime": {
     "start_time": "2024-08-29T12:36:27.832720Z"
    },
    "jupyter": {
     "is_executing": true
    }
   },
   "outputs": [
    {
     "name": "stdout",
     "output_type": "stream",
     "text": [
      "average_loss: 0.0042\n",
      "RMSE Loss: 0.0651\n",
      "归一化前: 88.2288\n"
     ]
    }
   ],
   "source": [
    "model.load_state_dict(torch.load('model/param/patchtst_20240919_114803_epoch800_onlyPPG.pth'))\n",
    "\n",
    "model.eval()  # 设置模型为评估模式\n",
    "total_loss = 0\n",
    "inverse_loss = 0\n",
    "with torch.no_grad():  # 在评估过程中不需要计算梯度\n",
    "    for batch_inputs, batch_targets in test_dataloader:\n",
    "\n",
    "        batch_inputs = batch_inputs.view(batch_inputs.shape[0], -1, 1, args.patch_len)\n",
    "        batch = batch_inputs.to(device)  # 添加通道维度\n",
    "        \n",
    "        # 前向传播\n",
    "        outputs = model(batch_inputs)\n",
    "        outputs = outputs.view(batch_inputs.shape[0], -1)\n",
    "        \n",
    "        # 计算损失\n",
    "        loss = criterion(outputs, batch_targets)\n",
    "        total_loss += loss.item()\n",
    "\n",
    "        outputs_inver = output_scaler.inverse_transform(outputs.cpu())\n",
    "        batch_targets_inver = output_scaler.inverse_transform(batch_targets.cpu())\n",
    "        inverse_loss += mse_loss(outputs_inver, batch_targets_inver)\n",
    "\n",
    "        # batch_inputs = batch_inputs.view(batch_inputs.shape[0], -1)\n",
    "        # outputs = outputs.view(batch_inputs.shape[0], -1)\n",
    "        # show_image(batch_inputs, batch_targets, outputs)\n",
    "        \n",
    "        \n",
    "average_loss = total_loss / len(test_dataloader)\n",
    "rmse_loss = torch.sqrt(torch.tensor(average_loss)) \n",
    "inverse_loss = inverse_loss / len(test_dataloader)\n",
    "print(f\"average_loss: {average_loss:.4f}\")\n",
    "print(f\"RMSE Loss: {rmse_loss.item():.4f}\")\n",
    "print(f\"归一化前: {inverse_loss.item():.4f}\")"
   ]
  },
  {
   "cell_type": "code",
   "execution_count": null,
   "id": "105a7670ce4509ff",
   "metadata": {
    "jupyter": {
     "is_executing": true
    }
   },
   "outputs": [],
   "source": [
    "show_image(batch_inputs, batch_targets, outputs)"
   ]
  },
  {
   "cell_type": "code",
   "execution_count": null,
   "id": "a24e2f921a50a2ae",
   "metadata": {},
   "outputs": [],
   "source": []
  }
 ],
 "metadata": {
  "kernelspec": {
   "display_name": "Python 3",
   "language": "python",
   "name": "python3"
  },
  "language_info": {
   "codemirror_mode": {
    "name": "ipython",
    "version": 3
   },
   "file_extension": ".py",
   "mimetype": "text/x-python",
   "name": "python",
   "nbconvert_exporter": "python",
   "pygments_lexer": "ipython3",
   "version": "3.8.18"
  }
 },
 "nbformat": 4,
 "nbformat_minor": 5
}
