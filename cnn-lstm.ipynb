{
 "cells": [
  {
   "cell_type": "code",
   "id": "initial_id",
   "metadata": {
    "collapsed": true,
    "ExecuteTime": {
     "end_time": "2024-09-20T13:51:28.081619Z",
     "start_time": "2024-09-20T13:51:22.292622Z"
    }
   },
   "source": [
    "import matplotlib.pyplot as plt\n",
    "import pandas as pd\n",
    "import torch\n",
    "import torch.nn as nn\n",
    "import torch.optim as optim\n",
    "from sklearn.model_selection import train_test_split\n",
    "from sklearn.preprocessing import MinMaxScaler\n",
    "from torch.utils.data import DataLoader\n",
    "from data_process.CustomDataset import CustomDataset\n",
    "from model.CNNLSTMModel import CNNLSTMModel\n",
    "from data_process.DataModule import *\n",
    "\n",
    "device = torch.device(\"cuda\" if torch.cuda.is_available() else \"cpu\")\n",
    "\n",
    "# input_scaler, output_scaler, train_dataloader, test_dataloader = DataModule()\n",
    "input1_scaler, input2_scaler, output_scaler, train_dataloader, test_dataloader = DataModule2(True)"
   ],
   "outputs": [],
   "execution_count": 1
  },
  {
   "cell_type": "code",
   "id": "ed189d2df4f1f23c",
   "metadata": {
    "ExecuteTime": {
     "end_time": "2024-09-20T13:53:09.025160Z",
     "start_time": "2024-09-20T13:53:05.661643Z"
    }
   },
   "source": [
    "# 参数定义\n",
    "input_channels = 1        # For example, 1 for univariate time series data\n",
    "conv_out_channels = 64    # Number of output channels for the convolution layer\n",
    "kernel_size = 3           # Size of the convolution kernel\n",
    "hidden_size = 128         # Hidden size for LSTM\n",
    "num_layers = 2            # Number of LSTM layers\n",
    "output_size = 1024        # Output size (e.g., length of the output vector)\n",
    "seq_length = 1024         # Length of the input sequence\n",
    "\n",
    "# Initialize model\n",
    "model = CNNLSTMModel(input_channels, conv_out_channels, kernel_size, hidden_size, num_layers, output_size, seq_length).to(device)\n",
    "# 超参数\n",
    "num_epochs = 800\n",
    "learning_rate = 0.001\n",
    "\n",
    "criterion = nn.MSELoss()\n",
    "optimizer = optim.Adam(model.parameters(), lr=learning_rate)"
   ],
   "outputs": [],
   "execution_count": 2
  },
  {
   "cell_type": "code",
   "execution_count": 4,
   "id": "31a3ea389bb2c9f5",
   "metadata": {},
   "outputs": [
    {
     "ename": "",
     "evalue": "",
     "output_type": "error",
     "traceback": [
      "\u001B[1;31mThe Kernel crashed while executing code in the current cell or a previous cell. \n",
      "\u001B[1;31mPlease review the code in the cell(s) to identify a possible cause of the failure. \n",
      "\u001B[1;31mClick <a href='https://aka.ms/vscodeJupyterKernelCrash'>here</a> for more info. \n",
      "\u001B[1;31mView Jupyter <a href='command:jupyter.viewOutput'>log</a> for further details."
     ]
    }
   ],
   "source": [
    "# 训练模型\n",
    "for epoch in range(num_epochs):\n",
    "    model.train()\n",
    "    for batch_inputs, batch_targets in train_dataloader:\n",
    "        # 将输入数据移动到设备\n",
    "        batch = batch_inputs.unsqueeze(1).to(device)  # 添加通道维度\n",
    "\n",
    "        # 前向传播\n",
    "        outputs = model(batch)\n",
    "\n",
    "        # 计算损失\n",
    "        loss = criterion(outputs, batch_targets)\n",
    "\n",
    "        # 反向传播和优化\n",
    "        optimizer.zero_grad()\n",
    "        loss.backward()\n",
    "        optimizer.step()\n",
    "\n",
    "    print(f\"Epoch [{epoch + 1}/{num_epochs}], Loss: {loss.item():.4f}\")\n",
    "\n",
    "torch.save(model.state_dict(), 'model/param/cnn_lstm.pth')"
   ]
  },
  {
   "cell_type": "code",
   "execution_count": 7,
   "id": "4149e438a8f03b81",
   "metadata": {
    "ExecuteTime": {
     "end_time": "2024-08-29T12:36:04.091563Z",
     "start_time": "2024-08-29T12:36:04.086563Z"
    }
   },
   "outputs": [],
   "source": [
    "def show_image(batch_inputs, batch_targets, outputs):\n",
    "    batch_inputs = batch_inputs.squeeze(1) \n",
    "    x = input1_scaler.inverse_transform(batch_inputs.cpu())  # ppg\n",
    "    y1 = output_scaler.inverse_transform(batch_targets.cpu())  # abp\n",
    "    y2 = output_scaler.inverse_transform(outputs.cpu())  # predict\n",
    "    \n",
    "    for i in range(0, len(y1)):\n",
    "        fig, axs = plt.subplots(1, 2, figsize=(14, 6))  \n",
    "        axs[0].plot(x[i, :], label='PPG')  \n",
    "        axs[0].set_title('PPG')  \n",
    "        axs[0].set_xlabel('Time')  \n",
    "        axs[0].set_ylabel('Value')  \n",
    "        axs[0].legend()  \n",
    "      \n",
    "        axs[1].plot(y1[i, :], color='red', label='ABP')  \n",
    "        axs[1].plot(y2[i, :], color='g', label='Predict')  \n",
    "        axs[1].set_title('ABP and Predict')  \n",
    "        axs[1].set_xlabel('Time')  \n",
    "        axs[1].set_ylabel('Value')  \n",
    "        axs[1].legend()  \n",
    "      \n",
    "        plt.tight_layout()  \n",
    "        plt.show()"
   ]
  },
  {
   "cell_type": "code",
   "id": "fe3343f6",
   "metadata": {
    "ExecuteTime": {
     "end_time": "2024-09-20T13:53:12.830092Z",
     "start_time": "2024-09-20T13:53:12.819077Z"
    }
   },
   "source": [
    "import numpy as np\n",
    "\n",
    "def mse_loss(y_true, y_pred):  \n",
    "    error = y_pred - y_true  \n",
    "\n",
    "    squared_error = error ** 2  \n",
    "\n",
    "    mse = np.mean(squared_error)  \n",
    "      \n",
    "    return mse  \n",
    "\n",
    "def find_sbp_dbp(y):\n",
    "    \"\"\"\n",
    "    Find sbp and dbp in a 1D sequence.\n",
    "    \"\"\"\n",
    "    sbp = np.where((y[1:-1] > y[:-2]) & (y[1:-1] > y[2:]))[0] + 1\n",
    "    dbp = np.where((y[1:-1] < y[:-2]) & (y[1:-1] < y[2:]))[0] + 1\n",
    "    return sbp, dbp\n",
    "\n",
    "\n",
    "def calculate_batch_errors(preds, true):\n",
    "    \"\"\"\n",
    "    Calculate MAE and MSE for sbp and dbp across a batch of sequences.\n",
    "    \"\"\"\n",
    "    batch_size, seq_length = preds.shape\n",
    "    mae_sbp = []\n",
    "    mse_sbp = []\n",
    "    mae_dbp = []\n",
    "    mse_dbp = []\n",
    "    all_peak_errors = []\n",
    "    all_trough_errors = []\n",
    "\n",
    "    for i in range(batch_size):\n",
    "        sbp, dbp = find_sbp_dbp(true[i])\n",
    "        sbp_errors = np.abs(preds[i, sbp] - true[i, sbp])\n",
    "        dbp_errors = np.abs(preds[i, dbp] - true[i, dbp])\n",
    "        all_peak_errors.extend(sbp_errors)\n",
    "        all_trough_errors.extend(dbp_errors)\n",
    "\n",
    "        mae_p, mse_p = np.mean(np.abs(preds[i, sbp] - true[i, sbp])), np.mean(\n",
    "            (preds[i, sbp] - true[i, sbp]) ** 2)\n",
    "        mae_t, mse_t = np.mean(np.abs(preds[i, dbp] - true[i, dbp])), np.mean(\n",
    "            (preds[i, dbp] - true[i, dbp]) ** 2)\n",
    "        mae_sbp.append(mae_p)\n",
    "        mse_sbp.append(mse_p)\n",
    "        mae_dbp.append(mae_t)\n",
    "        mse_dbp.append(mse_t)\n",
    "\n",
    "    sd_peaks = np.std(all_peak_errors) if all_peak_errors else np.nan\n",
    "    sd_troughs = np.std(all_trough_errors) if all_trough_errors else np.nan\n",
    "\n",
    "    thresholds = [5, 10, 15]\n",
    "    peak_percentages = [np.mean(np.array(all_peak_errors) <= thresh) for thresh in thresholds]\n",
    "    trough_percentages = [np.mean(np.array(all_trough_errors) <= thresh) for thresh in thresholds]\n",
    "\n",
    "    return np.mean(mae_sbp), np.mean(mse_sbp), np.mean(mae_dbp), np.mean(mse_dbp), sd_peaks, sd_troughs, peak_percentages, trough_percentages\n"
   ],
   "outputs": [],
   "execution_count": 3
  },
  {
   "cell_type": "code",
   "id": "66359f548bafd35",
   "metadata": {
    "ExecuteTime": {
     "end_time": "2024-09-20T13:53:16.917562Z",
     "start_time": "2024-09-20T13:53:13.777811Z"
    }
   },
   "source": [
    "model.load_state_dict(torch.load('model/param/cnn_lstm.pth'))\n",
    "\n",
    "model.eval()  # 设置模型为评估模式\n",
    "total_loss = 0\n",
    "inverse_loss = 0\n",
    "MAE_SBP, MSE_SBP, MAE_DBP, MSE_DBP = [], [], [], []\n",
    "SD_SBP, SD_DBP = [], []\n",
    "SBP5, SBP10, SBP15 = [], [], []\n",
    "DBP5, DBP10, DBP15 = [], [], []\n",
    "\n",
    "with torch.no_grad():  # 在评估过程中不需要计算梯度\n",
    "    for batch_inputs, batch_targets in test_dataloader:\n",
    "        # 将输入数据和目标输出移动到设备\n",
    "        batch_inputs = batch_inputs.unsqueeze(1).to(device)  # 添加通道维度\n",
    "        batch_targets = batch_targets.to(device)\n",
    "        \n",
    "        # 前向传播\n",
    "        outputs = model(batch_inputs)\n",
    "        \n",
    "        # 计算损失\n",
    "        loss = criterion(outputs, batch_targets)\n",
    "        total_loss += loss.item()\n",
    "\n",
    "        outputs_inver = output_scaler.inverse_transform(outputs.cpu())\n",
    "        batch_targets_inver = output_scaler.inverse_transform(batch_targets.cpu())\n",
    "        inverse_loss += mse_loss(outputs_inver, batch_targets_inver)\n",
    "        \n",
    "        mae_sbp, mse_sbp, mae_dbp, mse_dbp, sd_peaks, sd_troughs, peak_percentages, trough_percentages = calculate_batch_errors(outputs_inver, batch_targets_inver)\n",
    "        MAE_SBP.append(mae_sbp)\n",
    "        MSE_SBP.append(mse_sbp)\n",
    "        MAE_DBP.append(mae_dbp)\n",
    "        MSE_DBP.append(mse_dbp)\n",
    "        SD_SBP.append(sd_peaks)\n",
    "        SD_DBP.append(sd_troughs)\n",
    "        SBP5.append(peak_percentages[0])\n",
    "        SBP10.append(peak_percentages[1])\n",
    "        SBP15.append(peak_percentages[2])\n",
    "        DBP5.append(trough_percentages[0])\n",
    "        DBP10.append(trough_percentages[1])\n",
    "        DBP15.append(trough_percentages[2])\n",
    "\n",
    "        \n",
    "average_loss = total_loss / len(test_dataloader)\n",
    "rmse_loss = torch.sqrt(torch.tensor(average_loss))\n",
    "inverse_loss = inverse_loss / len(test_dataloader)\n",
    "print(f\"average_loss: {average_loss:.4f}\")\n",
    "print(f\"RMSE Loss: {rmse_loss.item():.4f}\")\n",
    "print(f\"归一化前总loss: {inverse_loss.item():.4f}\")\n",
    "print(f\"MAE SBP: {np.mean(MAE_SBP):.4f}\")\n",
    "print(f\"MSE SBP: {np.mean(MSE_SBP):.4f}\")\n",
    "print(f\"SD_SBP: {np.mean(SD_SBP):.4f}\")\n",
    "print(f\"MAE DBP: {np.mean(MAE_DBP):.4f}\")\n",
    "print(f\"MSE DBP: {np.mean(MSE_DBP):.4f}\")\n",
    "print(f\"SD_DBP: {np.mean(SD_DBP):.4f}\")\n",
    "\n",
    "print(f\"SBP5: {np.mean(SBP5)*100:.4f}%, SBP10: {np.mean(SBP10)*100:.4f}%, SBP15: {np.mean(SBP15)*100:.4f}%\")\n",
    "print(f\"DBP5: {np.mean(DBP5)*100:.4f}%, DBP10: {np.mean(DBP10)*100:.4f}%, DBP15: {np.mean(DBP15)*100:.4f}%\")"
   ],
   "outputs": [
    {
     "name": "stdout",
     "output_type": "stream",
     "text": [
      "average_loss: 0.0134\n",
      "RMSE Loss: 0.1155\n",
      "归一化前总loss: 281.4627\n",
      "MAE SBP: 14.2112\n",
      "MSE SBP: 437.2165\n",
      "SD_SBP: 15.4965\n",
      "MAE DBP: 11.9072\n",
      "MSE DBP: 303.5553\n",
      "SD_DBP: 12.4827\n",
      "SBP5: 31.3120%, SBP10: 53.1457%, SBP15: 66.9534%\n",
      "DBP5: 35.7605%, DBP10: 58.5621%, DBP15: 71.9409%\n"
     ]
    }
   ],
   "execution_count": 4
  },
  {
   "cell_type": "code",
   "execution_count": null,
   "id": "105a7670ce4509ff",
   "metadata": {
    "jupyter": {
     "is_executing": true
    }
   },
   "outputs": [],
   "source": [
    "show_image(batch_inputs, batch_targets, outputs)"
   ]
  },
  {
   "cell_type": "code",
   "execution_count": null,
   "id": "a24e2f921a50a2ae",
   "metadata": {},
   "outputs": [],
   "source": []
  }
 ],
 "metadata": {
  "kernelspec": {
   "display_name": "Python 3",
   "language": "python",
   "name": "python3"
  },
  "language_info": {
   "codemirror_mode": {
    "name": "ipython",
    "version": 3
   },
   "file_extension": ".py",
   "mimetype": "text/x-python",
   "name": "python",
   "nbconvert_exporter": "python",
   "pygments_lexer": "ipython3",
   "version": "3.8.18"
  }
 },
 "nbformat": 4,
 "nbformat_minor": 5
}
