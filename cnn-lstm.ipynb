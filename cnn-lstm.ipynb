{
 "cells": [
  {
   "cell_type": "code",
   "execution_count": 2,
   "id": "initial_id",
   "metadata": {
    "ExecuteTime": {
     "end_time": "2024-08-29T12:34:54.424454Z",
     "start_time": "2024-08-29T12:34:45.459766Z"
    },
    "collapsed": true
   },
   "outputs": [],
   "source": [
    "import matplotlib.pyplot as plt\n",
    "import pandas as pd\n",
    "import torch\n",
    "import torch.nn as nn\n",
    "import torch.optim as optim\n",
    "from sklearn.model_selection import train_test_split\n",
    "from sklearn.preprocessing import MinMaxScaler\n",
    "from torch.utils.data import DataLoader\n",
    "from data_process.CustomDataset import CustomDataset\n",
    "from model.CNNLSTMModel import CNNLSTMModel\n",
    "from data_process.DataModule import DataModule\n",
    "\n",
    "device = torch.device(\"cuda\" if torch.cuda.is_available() else \"cpu\")\n",
    "\n",
    "input_scaler, output_scaler, train_dataloader, test_dataloader = DataModule()"
   ]
  },
  {
   "cell_type": "code",
   "execution_count": 3,
   "id": "ed189d2df4f1f23c",
   "metadata": {
    "ExecuteTime": {
     "end_time": "2024-08-29T12:35:32.499769Z",
     "start_time": "2024-08-29T12:35:32.401855Z"
    }
   },
   "outputs": [],
   "source": [
    "# 参数定义\n",
    "input_channels = 1        # For example, 1 for univariate time series data\n",
    "conv_out_channels = 64    # Number of output channels for the convolution layer\n",
    "kernel_size = 3           # Size of the convolution kernel\n",
    "hidden_size = 128         # Hidden size for LSTM\n",
    "num_layers = 2            # Number of LSTM layers\n",
    "output_size = 1024        # Output size (e.g., length of the output vector)\n",
    "seq_length = 1024         # Length of the input sequence\n",
    "\n",
    "# Initialize model\n",
    "model = CNNLSTMModel(input_channels, conv_out_channels, kernel_size, hidden_size, num_layers, output_size, seq_length).to(device)\n",
    "# 超参数\n",
    "num_epochs = 800\n",
    "learning_rate = 0.001\n",
    "\n",
    "criterion = nn.MSELoss()\n",
    "optimizer = optim.Adam(model.parameters(), lr=learning_rate)"
   ]
  },
  {
   "cell_type": "code",
   "execution_count": 4,
   "id": "31a3ea389bb2c9f5",
   "metadata": {},
   "outputs": [
    {
     "ename": "",
     "evalue": "",
     "output_type": "error",
     "traceback": [
      "\u001b[1;31mThe Kernel crashed while executing code in the current cell or a previous cell. \n",
      "\u001b[1;31mPlease review the code in the cell(s) to identify a possible cause of the failure. \n",
      "\u001b[1;31mClick <a href='https://aka.ms/vscodeJupyterKernelCrash'>here</a> for more info. \n",
      "\u001b[1;31mView Jupyter <a href='command:jupyter.viewOutput'>log</a> for further details."
     ]
    }
   ],
   "source": [
    "# 训练模型\n",
    "for epoch in range(num_epochs):\n",
    "    model.train()\n",
    "    for batch_inputs, batch_targets in train_dataloader:\n",
    "        # 将输入数据移动到设备\n",
    "        batch = batch_inputs.unsqueeze(1).to(device)  # 添加通道维度\n",
    "\n",
    "        # 前向传播\n",
    "        outputs = model(batch)\n",
    "\n",
    "        # 计算损失\n",
    "        loss = criterion(outputs, batch_targets)\n",
    "\n",
    "        # 反向传播和优化\n",
    "        optimizer.zero_grad()\n",
    "        loss.backward()\n",
    "        optimizer.step()\n",
    "\n",
    "    print(f\"Epoch [{epoch + 1}/{num_epochs}], Loss: {loss.item():.4f}\")\n",
    "\n",
    "torch.save(model.state_dict(), 'model/param/cnn_lstm.pth')"
   ]
  },
  {
   "cell_type": "code",
   "execution_count": 7,
   "id": "4149e438a8f03b81",
   "metadata": {
    "ExecuteTime": {
     "end_time": "2024-08-29T12:36:04.091563Z",
     "start_time": "2024-08-29T12:36:04.086563Z"
    }
   },
   "outputs": [],
   "source": [
    "def show_image(batch_inputs, batch_targets, outputs):\n",
    "    batch_inputs = batch_inputs.squeeze(1) \n",
    "    x = input_scaler.inverse_transform(batch_inputs.cpu())  # ppg\n",
    "    y1 = output_scaler.inverse_transform(batch_targets.cpu())  # abp\n",
    "    y2 = output_scaler.inverse_transform(outputs.cpu())  # predict\n",
    "    \n",
    "    for i in range(0, len(y1)):\n",
    "        fig, axs = plt.subplots(1, 2, figsize=(14, 6))  \n",
    "        axs[0].plot(x[i, :], label='PPG')  \n",
    "        axs[0].set_title('PPG')  \n",
    "        axs[0].set_xlabel('Time')  \n",
    "        axs[0].set_ylabel('Value')  \n",
    "        axs[0].legend()  \n",
    "      \n",
    "        axs[1].plot(y1[i, :], color='red', label='ABP')  \n",
    "        axs[1].plot(y2[i, :], color='g', label='Predict')  \n",
    "        axs[1].set_title('ABP and Predict')  \n",
    "        axs[1].set_xlabel('Time')  \n",
    "        axs[1].set_ylabel('Value')  \n",
    "        axs[1].legend()  \n",
    "      \n",
    "        plt.tight_layout()  \n",
    "        plt.show()"
   ]
  },
  {
   "cell_type": "code",
   "execution_count": 3,
   "id": "fe3343f6",
   "metadata": {},
   "outputs": [],
   "source": [
    "import numpy as np\n",
    "\n",
    "def mse_loss(y_true, y_pred):  \n",
    "    error = y_pred - y_true  \n",
    "\n",
    "    squared_error = error ** 2  \n",
    "\n",
    "    mse = np.mean(squared_error)  \n",
    "      \n",
    "    return mse  "
   ]
  },
  {
   "cell_type": "code",
   "execution_count": 4,
   "id": "66359f548bafd35",
   "metadata": {
    "ExecuteTime": {
     "start_time": "2024-08-29T12:36:27.832720Z"
    },
    "jupyter": {
     "is_executing": true
    }
   },
   "outputs": [
    {
     "ename": "",
     "evalue": "",
     "output_type": "error",
     "traceback": [
      "\u001b[1;31mThe Kernel crashed while executing code in the current cell or a previous cell. \n",
      "\u001b[1;31mPlease review the code in the cell(s) to identify a possible cause of the failure. \n",
      "\u001b[1;31mClick <a href='https://aka.ms/vscodeJupyterKernelCrash'>here</a> for more info. \n",
      "\u001b[1;31mView Jupyter <a href='command:jupyter.viewOutput'>log</a> for further details."
     ]
    }
   ],
   "source": [
    "model.load_state_dict(torch.load('model/param/cnn_lstm.pth'))\n",
    "\n",
    "model.eval()  # 设置模型为评估模式\n",
    "total_loss = 0\n",
    "inverse_loss = 0\n",
    "with torch.no_grad():  # 在评估过程中不需要计算梯度\n",
    "    for batch_inputs, batch_targets in test_dataloader:\n",
    "        # 将输入数据和目标输出移动到设备\n",
    "        batch_inputs = batch_inputs.unsqueeze(1).to(device)  # 添加通道维度\n",
    "        batch_targets = batch_targets.to(device)\n",
    "        \n",
    "        # 前向传播\n",
    "        outputs = model(batch_inputs)\n",
    "        \n",
    "        # 计算损失\n",
    "        loss = criterion(outputs, batch_targets)\n",
    "        total_loss += loss.item()\n",
    "\n",
    "        outputs_inver = output_scaler.inverse_transform(outputs.cpu())\n",
    "        batch_targets_inver = output_scaler.inverse_transform(batch_targets.cpu())\n",
    "        inverse_loss += mse_loss(outputs_inver, batch_targets_inver)\n",
    "\n",
    "        \n",
    "average_loss = total_loss / len(test_dataloader)\n",
    "rmse_loss = torch.sqrt(torch.tensor(average_loss)) \n",
    "inverse_loss = inverse_loss / len(test_dataloader)\n",
    "print(f\"average_loss: {average_loss:.4f}\")\n",
    "print(f\"RMSE Loss: {rmse_loss.item():.4f}\")\n",
    "print(f\"归一化前: {inverse_loss.item():.4f}\")"
   ]
  },
  {
   "cell_type": "code",
   "execution_count": null,
   "id": "105a7670ce4509ff",
   "metadata": {
    "jupyter": {
     "is_executing": true
    }
   },
   "outputs": [],
   "source": [
    "show_image(batch_inputs, batch_targets, outputs)"
   ]
  },
  {
   "cell_type": "code",
   "execution_count": null,
   "id": "a24e2f921a50a2ae",
   "metadata": {},
   "outputs": [],
   "source": []
  }
 ],
 "metadata": {
  "kernelspec": {
   "display_name": "Python 3",
   "language": "python",
   "name": "python3"
  },
  "language_info": {
   "codemirror_mode": {
    "name": "ipython",
    "version": 3
   },
   "file_extension": ".py",
   "mimetype": "text/x-python",
   "name": "python",
   "nbconvert_exporter": "python",
   "pygments_lexer": "ipython3",
   "version": "3.8.18"
  }
 },
 "nbformat": 4,
 "nbformat_minor": 5
}
