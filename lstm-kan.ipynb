{
 "cells": [
  {
   "cell_type": "code",
   "execution_count": 7,
   "id": "initial_id",
   "metadata": {
    "ExecuteTime": {
     "end_time": "2024-06-08T13:06:09.664717Z",
     "start_time": "2024-06-08T13:02:21.654789Z"
    },
    "collapsed": true
   },
   "outputs": [
    {
     "name": "stdout",
     "output_type": "stream",
     "text": [
      "Epoch [1/1], Loss: 0.0363\n",
      "average_loss: 0.0362\n"
     ]
    }
   ],
   "source": [
    "from model.LstmKAN import LstmKAN\n",
    "from model.LSTMModel import LSTMModel\n",
    "import pandas as pd\n",
    "import torch\n",
    "import torch.nn as nn\n",
    "import torch.optim as optim\n",
    "from data_process.DataModule import DataModule\n",
    "\n",
    "device = torch.device(\"cuda\" if torch.cuda.is_available() else \"cpu\")\n",
    "\n",
    "input_scaler, output_scaler, train_dataloader, test_dataloader = DataModule()\n",
    "\n",
    "# 参数定义\n",
    "input_size = 1024\n",
    "hidden_size = 128\n",
    "num_layers = 2\n",
    "output_size = 1024\n",
    "\n",
    "model = LstmKAN(input_size, hidden_size, num_layers, output_size).to(device)\n",
    "\n",
    "# 超参数\n",
    "num_epochs = 2000\n",
    "learning_rate = 0.001\n",
    "\n",
    "criterion = nn.MSELoss()\n",
    "optimizer = optim.Adam(model.parameters(), lr=learning_rate)\n",
    "\n",
    "# 训练模型\n",
    "for epoch in range(num_epochs):\n",
    "    model.train()\n",
    "    for batch_inputs, batch_targets in train_dataloader:\n",
    "\n",
    "        outputs = model(batch_inputs.unsqueeze(1))\n",
    "        loss = criterion(outputs, batch_targets)\n",
    "\n",
    "        optimizer.zero_grad()\n",
    "        loss.backward()\n",
    "        optimizer.step()\n",
    "\n",
    "    print(f\"Epoch [{epoch + 1}/{num_epochs}], Loss: {loss.item():.4f}\")\n",
    "\n",
    "# 评估模型\n",
    "model.eval()\n",
    "total_loss = 0\n",
    "with torch.no_grad():\n",
    "    for batch_inputs, batch_targets in test_dataloader:\n",
    "        outputs = model(batch_inputs.unsqueeze(1))\n",
    "\n",
    "        test_loss = criterion(outputs, batch_targets)\n",
    "        total_loss += test_loss.item()\n",
    "\n",
    "average_loss = total_loss / len(test_dataloader)\n",
    "print(f\"average_loss: {average_loss:.4f}\")\n"
   ]
  },
  {
   "cell_type": "code",
   "execution_count": 2,
   "id": "3e73048e64663c39",
   "metadata": {
    "ExecuteTime": {
     "end_time": "2024-06-08T12:09:52.475327Z",
     "start_time": "2024-06-08T12:09:52.023660Z"
    }
   },
   "outputs": [],
   "source": [
    "import matplotlib.pyplot as plt"
   ]
  },
  {
   "cell_type": "code",
   "id": "fd8a6cc19b0b7114",
   "metadata": {},
   "source": [
    "y1 = output_scaler.inverse_transform(batch_targets.cpu())\n",
    "y2 = output_scaler.inverse_transform(outputs.cpu())\n",
    "\n",
    "for i in range(0, len(y1)):\n",
    "    plt.figure()\n",
    "    plt.plot(y1[i, :], color='red')\n",
    "    plt.plot(y2[i, :])\n",
    "    plt.show()"
   ],
   "outputs": [],
   "execution_count": null
  },
  {
   "cell_type": "code",
   "execution_count": null,
   "id": "7091a69e0434bd9",
   "metadata": {},
   "outputs": [],
   "source": []
  }
 ],
 "metadata": {
  "kernelspec": {
   "display_name": "Python 3",
   "language": "python",
   "name": "python3"
  },
  "language_info": {
   "codemirror_mode": {
    "name": "ipython",
    "version": 3
   },
   "file_extension": ".py",
   "mimetype": "text/x-python",
   "name": "python",
   "nbconvert_exporter": "python",
   "pygments_lexer": "ipython3",
   "version": "3.8.18"
  }
 },
 "nbformat": 4,
 "nbformat_minor": 5
}
